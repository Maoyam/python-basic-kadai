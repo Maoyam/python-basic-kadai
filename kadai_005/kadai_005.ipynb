{
  "nbformat": 4,
  "nbformat_minor": 0,
  "metadata": {
    "colab": {
      "provenance": []
    },
    "kernelspec": {
      "name": "python3",
      "display_name": "Python 3"
    },
    "language_info": {
      "name": "python"
    }
  },
  "cells": [
    {
      "cell_type": "code",
      "execution_count": 5,
      "metadata": {
        "colab": {
          "base_uri": "https://localhost:8080/"
        },
        "id": "7CAmwRi5ZdVp",
        "outputId": "3843f180-d8c7-4f91-dce6-965619b3d92d"
      },
      "outputs": [
        {
          "output_type": "stream",
          "name": "stdout",
          "text": [
            "75.0cm²\n"
          ]
        }
      ],
      "source": [
        "#変数の定義\n",
        "top = 10\n",
        "bottom = 20\n",
        "height = 5\n",
        "\n",
        "#計算式\n",
        "trapezium = (top + bottom) * height / 2\n",
        "print(f\"{trapezium}cm²\")"
      ]
    }
  ]
}